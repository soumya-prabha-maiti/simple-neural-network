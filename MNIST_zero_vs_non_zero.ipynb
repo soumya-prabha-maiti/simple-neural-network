{
  "nbformat": 4,
  "nbformat_minor": 0,
  "metadata": {
    "colab": {
      "name": "MNIST zero vs non-zero.ipynb",
      "provenance": [],
      "collapsed_sections": []
    },
    "kernelspec": {
      "name": "python3",
      "display_name": "Python 3"
    },
    "language_info": {
      "name": "python"
    }
  },
  "cells": [
    {
      "cell_type": "markdown",
      "metadata": {
        "id": "Ziqspsyf2hCr"
      },
      "source": [
        "<h1>Packages</h1>"
      ]
    },
    {
      "cell_type": "code",
      "metadata": {
        "id": "RbdUJTpR2ZAu"
      },
      "source": [
        "import matplotlib.pyplot as plt\n",
        "import pandas\n",
        "from tensorflow import keras\n",
        "from tensorflow.keras import layers"
      ],
      "execution_count": null,
      "outputs": []
    },
    {
      "cell_type": "markdown",
      "metadata": {
        "id": "xwl11U1V29qt"
      },
      "source": [
        "#Data"
      ]
    },
    {
      "cell_type": "code",
      "metadata": {
        "id": "8GSeYPKp3CTh"
      },
      "source": [
        "(X_train, Y_train), (X_test, Y_test) = keras.datasets.mnist.load_data()\n",
        "assert X_train.shape == (60000, 28, 28)\n",
        "assert X_test.shape == (10000, 28, 28)\n",
        "assert Y_train.shape == (60000,)\n",
        "assert Y_test.shape == (10000,)"
      ],
      "execution_count": null,
      "outputs": []
    },
    {
      "cell_type": "code",
      "metadata": {
        "id": "z7Ue2SD_QlQn"
      },
      "source": [
        "# Changing the labels to zero or non-zero\n",
        "Y_train=(Y_train!=0)\n",
        "Y_test=(Y_test!=0)"
      ],
      "execution_count": null,
      "outputs": []
    },
    {
      "cell_type": "code",
      "metadata": {
        "id": "EAs204A-M3aC"
      },
      "source": [
        "\n",
        "X_train=(X_train/255)\n",
        "X_test=(X_test/255)"
      ],
      "execution_count": null,
      "outputs": []
    },
    {
      "cell_type": "code",
      "metadata": {
        "id": "As2FA2b6MtDv"
      },
      "source": [
        "plt.imshow(X_test[1])\n",
        "print(X_test[1])\n",
        "print(Y_test[1])"
      ],
      "execution_count": null,
      "outputs": []
    },
    {
      "cell_type": "code",
      "metadata": {
        "id": "9xNZ5ZIkn5jP"
      },
      "source": [
        "X_train=X_train.reshape(X_train.shape[0],-1)\n",
        "X_test=X_test.reshape(X_test.shape[0],-1)\n",
        "Y_train=Y_train.reshape(Y_train.shape[0],-1)\n",
        "Y_test=Y_test.reshape(Y_test.shape[0],-1)"
      ],
      "execution_count": null,
      "outputs": []
    },
    {
      "cell_type": "code",
      "metadata": {
        "id": "xzDg-DB3Scnc"
      },
      "source": [
        "print(X_train.shape)\n",
        "print(X_test.shape )\n",
        "print(Y_train.shape)\n",
        "print(Y_test.shape )"
      ],
      "execution_count": null,
      "outputs": []
    },
    {
      "cell_type": "markdown",
      "metadata": {
        "id": "vqiYxbxzTv6V"
      },
      "source": [
        "#Model"
      ]
    },
    {
      "cell_type": "code",
      "metadata": {
        "id": "8uj8-fup3H2H"
      },
      "source": [
        "def train_model(X_train,Y_train,X_val,Y_val,layer_dimensions,activations,epochs,batch_size,print_training_log=1):\n",
        "  '''\n",
        "  Arguments ----------------------->\n",
        "  X_train : \n",
        "  Y_train :\n",
        "  X_val :\n",
        "  Y_val :\n",
        "  layer_dimensions : python list containing the dimensions of the layers excluding the input layer\n",
        "  activations : python list containing the activations of the layers\n",
        "\n",
        "  Returns--------------------------->\n",
        "  history : a History object.The History.history attribute contains a record of training loss values and validation loss values at successive epochs.\n",
        "  model : The trained model\n",
        "  '''\n",
        "\n",
        "  # Defining the model \n",
        "  model=keras.Sequential()\n",
        "  for i in range(len(activations)):\n",
        "    model.add(layers.Dense(units=layer_dimensions[i],activation=activations[i]))\n",
        "\n",
        "  # Compiling the model and specifying the loss function and the optimizer\n",
        "  model.compile(\n",
        "      optimizer='adam',\n",
        "      loss='binary_crossentropy',\n",
        "      metrics='binary_accuracy'\n",
        "  )\n",
        "\n",
        "  # Fitting the model to the training data\n",
        "  # model.fit() returns a History object.The History.history attribute contains a record of training loss values and validation loss values at successive epochs.\n",
        "  history=model.fit(\n",
        "      x=X_train,\n",
        "      y=Y_train,\n",
        "      validation_data=(X_val,Y_val),\n",
        "      epochs=epochs,\n",
        "      batch_size=batch_size,\n",
        "      verbose=print_training_log\n",
        "  )\n",
        "    \n",
        "  \n",
        "  return history,model"
      ],
      "execution_count": null,
      "outputs": []
    },
    {
      "cell_type": "code",
      "metadata": {
        "id": "zkdfIJxbS18q"
      },
      "source": [
        "layer_dimensions=[10,1]\n",
        "activations=['relu','sigmoid']\n",
        "epochs=70\n",
        "batch_size=6000\n",
        "print_training_log=1\n",
        "\n",
        "history,model=train_model(X_train,Y_train,X_test,Y_test,layer_dimensions,activations,epochs,batch_size)"
      ],
      "execution_count": null,
      "outputs": []
    },
    {
      "cell_type": "code",
      "metadata": {
        "id": "oVChHAm8rm2Y"
      },
      "source": [
        "history_df=pandas.DataFrame(history.history)\n",
        "history_df"
      ],
      "execution_count": null,
      "outputs": []
    },
    {
      "cell_type": "code",
      "metadata": {
        "id": "EDhATlChr0vP"
      },
      "source": [
        "# Start the plot at epoch 5\n",
        "history_df.loc[50:, ['loss', 'val_loss']].plot()\n",
        "history_df.loc[50:, ['binary_accuracy', 'val_binary_accuracy']].plot()"
      ],
      "execution_count": null,
      "outputs": []
    }
  ]
}